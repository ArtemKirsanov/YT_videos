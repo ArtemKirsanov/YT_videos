{
 "cells": [
  {
   "cell_type": "code",
   "execution_count": 1,
   "metadata": {},
   "outputs": [],
   "source": [
    "import ratinabox\n",
    "from ratinabox import Environment, Agent\n",
    "from ratinabox.Neurons import PlaceCells\n",
    "import numpy as np\n",
    "import shapely\n",
    "import matplotlib.pyplot as plt\n",
    "import pickle\n",
    "from artemutils.colormaps import get_colormap"
   ]
  },
  {
   "cell_type": "code",
   "execution_count": 32,
   "metadata": {},
   "outputs": [
    {
     "name": "stdout",
     "output_type": "stream",
     "text": [
      "Successfully imported dataset from arrays passed\n",
      "Total of 10.0 s of data available\n"
     ]
    }
   ],
   "source": [
    "# --- Linear track\n",
    "Env = Environment(\n",
    "    params={\n",
    "        'boundary':[[0,0], [0, 0.1], [1, 0.1], [1, 0]],\n",
    "    }\n",
    ")\n",
    "\n",
    "Ag = Agent(Env)\n",
    "T = 10\n",
    "N_points = 1000\n",
    "points = np.ones((N_points, 2))\n",
    "points[:N_points//2, 0] = np.linspace(0, 1, N_points//2)\n",
    "points[N_points//2:, 0] = np.linspace(1, 0, N_points//2)\n",
    "points[:N_points//2, 1] = 0.045\n",
    "points[N_points//2:, 1] = 0.055\n",
    "\n",
    "\n",
    "times = np.linspace(0, T, len(points))\n",
    "\n",
    "Ag.import_trajectory(\n",
    "    times=times,\n",
    "    positions=points,\n",
    "    interpolate=True,\n",
    ")\n",
    "\n",
    "\n",
    "# --- Place cells\n",
    "centers = np.array([\n",
    "    [0.1, 0.05],\n",
    "    [0.15, 0.05],\n",
    "    [0.2, 0.05],\n",
    "    [0.5, 0.05],\n",
    "    [0.55, 0.05],\n",
    "    [0.6, 0.05],\n",
    "    [0.9, 0.05],\n",
    "    [0.95, 0.05],\n",
    "    [1, 0.05],\n",
    "])\n",
    "\n",
    "PCs = PlaceCells(Ag, params={\n",
    "    'place_cell_centres': centers,\n",
    "    'max_fr' : 5,\n",
    "    'widths': 0.05\n",
    "})\n",
    "\n",
    "# --- Run the simulation\n",
    "for i in range(int(2*T/Ag.dt)): \n",
    "    Ag.update()\n",
    "    PCs.update()\n",
    " \n",
    "cmap = get_colormap('coolors-1')\n",
    "PCs.colors = cmap(centers[:,0])\n",
    "\n",
    "with open(\"ratinabox_output_linear_track.pickle\", \"wb\") as f:\n",
    "    pickle.dump({\"Environment\":Env, \"Agent\":Ag, 'PlaceCells':PCs}, f)"
   ]
  }
 ],
 "metadata": {
  "kernelspec": {
   "display_name": "animation",
   "language": "python",
   "name": "python3"
  },
  "language_info": {
   "codemirror_mode": {
    "name": "ipython",
    "version": 3
   },
   "file_extension": ".py",
   "mimetype": "text/x-python",
   "name": "python",
   "nbconvert_exporter": "python",
   "pygments_lexer": "ipython3",
   "version": "3.12.7"
  }
 },
 "nbformat": 4,
 "nbformat_minor": 2
}
