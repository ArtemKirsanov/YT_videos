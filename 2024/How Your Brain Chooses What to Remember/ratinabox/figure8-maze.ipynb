{
 "cells": [
  {
   "cell_type": "code",
   "execution_count": 1,
   "metadata": {},
   "outputs": [],
   "source": [
    "import ratinabox\n",
    "from ratinabox import Environment, Agent\n",
    "from ratinabox.Neurons import PlaceCells\n",
    "import numpy as np\n",
    "import shapely\n",
    "import matplotlib.pyplot as plt\n",
    "import pickle"
   ]
  },
  {
   "cell_type": "code",
   "execution_count": 2,
   "metadata": {},
   "outputs": [],
   "source": [
    "N_PLACE_CELLS = 20 # Number of place cells per arm\n"
   ]
  },
  {
   "cell_type": "code",
   "execution_count": 3,
   "metadata": {},
   "outputs": [
    {
     "name": "stdout",
     "output_type": "stream",
     "text": [
      "Successfully imported dataset from arrays passed\n",
      "Total of 40.0 s of data available\n",
      "'geodesic' wall geometry only supported for enivironments with 1 additional wall (4 bounding walls + 1 additional). Sorry. Using 'line_of_sight' instead.\n"
     ]
    }
   ],
   "source": [
    "# --- Figure 8 maze\n",
    "Env = Environment(params={\n",
    "    'aspect':1,\n",
    "    'holes' : [\n",
    "        [[0.1,0.1],[0.45,0.1],[0.45,0.9],[0.1,0.9]],\n",
    "        [[0.55,0.1],[0.9,0.1],[0.9,0.9],[0.55,0.9]]  \n",
    "    ]\n",
    "})\n",
    "\n",
    "\n",
    "\n",
    "# --- Trajectory to alternate between two arms of the maze\n",
    "left_trajectory = shapely.geometry.LineString([(0.5, 0.05), (0.5, 0.95), (0.05, 0.95), (0.05, 0.05), (0.5, 0.05)])\n",
    "right_trajectory = shapely.geometry.LineString([(0.5, 0.05), (0.5, 0.95), (0.95, 0.95), (0.95, 0.05), (0.5, 0.05)])\n",
    "\n",
    "def linearized_pos_to_maze(alpha, arm):\n",
    "    if arm==0: # Left arm\n",
    "        points = left_trajectory.interpolate(alpha, normalized=True)\n",
    "    else: # Right arm\n",
    "        points = right_trajectory.interpolate(alpha, normalized=True)\n",
    "    xs = [p.x for p in points]\n",
    "    ys = [p.y for p in points]\n",
    "    return np.stack([xs, ys], axis=1)\n",
    "\n",
    "\n",
    "Ag = Agent(Env)\n",
    "alpha = np.linspace(0, 1, 1000)\n",
    "points = np.concatenate([\n",
    "    linearized_pos_to_maze(alpha, 0)[:-1],\n",
    "    linearized_pos_to_maze(alpha, 1)[:-1]\n",
    "])\n",
    "\n",
    "T = 20 # in seconds how much time to spend in each arm\n",
    "times = np.linspace(0, 2*T, len(points))\n",
    "Ag.import_trajectory(\n",
    "    times=times,\n",
    "    positions=points,\n",
    "    interpolate=True\n",
    ")\n",
    "\n",
    "# --- Place cells for left and right arms\n",
    "alpha = np.linspace(0, 1, N_PLACE_CELLS) \n",
    "place_cell_centres = np.concatenate([\n",
    "    linearized_pos_to_maze(alpha, 0),\n",
    "    linearized_pos_to_maze(alpha, 1)\n",
    "])\n",
    "\n",
    "PCs = PlaceCells(\n",
    "    Ag,\n",
    "    params={\n",
    "        'place_cell_centres': place_cell_centres,\n",
    "        'max_fr' : 5,\n",
    "        'widths': 0.1\n",
    "    }\n",
    ")\n",
    "\n",
    "# --- Run the simulation\n",
    "for i in range(int(2*T/Ag.dt)): \n",
    "    Ag.update()\n",
    "    PCs.update()\n"
   ]
  },
  {
   "cell_type": "code",
   "execution_count": 4,
   "metadata": {},
   "outputs": [],
   "source": [
    "# --- Generate colors by linearized position within each arm \n",
    "alpha = np.linspace(0, 1, N_PLACE_CELLS)\n",
    "colors = plt.cm.viridis(alpha)\n",
    "\n",
    "PCs.colors = np.concatenate([colors, colors]) "
   ]
  },
  {
   "cell_type": "code",
   "execution_count": 5,
   "metadata": {},
   "outputs": [],
   "source": [
    "with open(\"ratinabox_output_figure8_viridis.pickle\", \"wb\") as f:\n",
    "    pickle.dump({\"Environment\":Env, \"Agent\":Ag, \"PlaceCells\":PCs}, f)"
   ]
  }
 ],
 "metadata": {
  "kernelspec": {
   "display_name": "animation",
   "language": "python",
   "name": "python3"
  },
  "language_info": {
   "codemirror_mode": {
    "name": "ipython",
    "version": 3
   },
   "file_extension": ".py",
   "mimetype": "text/x-python",
   "name": "python",
   "nbconvert_exporter": "python",
   "pygments_lexer": "ipython3",
   "version": "3.12.7"
  }
 },
 "nbformat": 4,
 "nbformat_minor": 2
}
