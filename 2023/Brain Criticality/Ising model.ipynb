{
 "cells": [
  {
   "cell_type": "markdown",
   "id": "91bf3b13-5d77-4194-8e89-ad209e276b8b",
   "metadata": {},
   "source": [
    "This notebook contains the code for Ising model animations used in [Brain Criticality video](https://youtu.be/vwLb3XlPCB4)"
   ]
  },
  {
   "cell_type": "code",
   "execution_count": null,
   "id": "1df42dfd-7c43-4ac8-96d6-a0fb093c77d8",
   "metadata": {},
   "outputs": [],
   "source": [
    "import numpy as np\n",
    "import matplotlib.animation as animation\n",
    "import matplotlib.pyplot as plt\n",
    "import time\n",
    "\n",
    "from numba import jit\n",
    "from PIL import Image\n",
    "from matplotlib import colors\n",
    "\n",
    "from matplotlib.animation import FuncAnimation\n",
    "from tqdm.notebook import tqdm\n",
    "\n",
    "import napari\n",
    "\n",
    "\n",
    "import sys\n",
    "sys.path.append(\"../../../Animation/\")\n",
    "from AK_animation_utils import *"
   ]
  },
  {
   "cell_type": "markdown",
   "id": "33a4659e-d34b-4baf-b831-54439b53c251",
   "metadata": {},
   "source": [
    "## Simulation code\n",
    "\n",
    "Taken from https://github.com/rytheranderson/fast-python-ising-model"
   ]
  },
  {
   "cell_type": "code",
   "execution_count": null,
   "id": "7f3064d4-2ddd-447e-98da-2a38a4c84bf5",
   "metadata": {},
   "outputs": [],
   "source": [
    "@jit\n",
    "def initialize_lattice_random(nrow, ncol):\n",
    "    return np.where(np.random.random((nrow, ncol)) > 0.5, 1, -1)\n",
    "\n",
    "\n",
    "@jit\n",
    "def initialize_lattice_uniform(nrow, ncol, spin=1):\n",
    "    return np.ones((nrow, ncol), dtype=np.int64) * spin\n",
    "\n",
    "\n",
    "@jit\n",
    "def system_energy(lattice, J, H):\n",
    "    \"\"\"\n",
    "        J is the spin interaction parameter,\n",
    "        J > 0 = ferromagnetic\n",
    "        J < 0 = antiferromagnetic\n",
    "        H is an external magnetic field (constant)\n",
    "    \"\"\"\n",
    "    nrow, ncol = lattice.shape\n",
    "    E = 0.0\n",
    "\n",
    "    for i in range(nrow):\n",
    "        for j in range(ncol):\n",
    "\n",
    "            S = lattice[i, j]\n",
    "            NS = (lattice[(i+1) % nrow, j] + \n",
    "                  lattice[i, (j+1) % ncol] + \n",
    "                  lattice[(i-1) % nrow, j] + \n",
    "                  lattice[i, (j-1) % ncol])\n",
    "            E += -1 * ((J * S * NS) + (H * S))\n",
    "    return E/4\n",
    "\n",
    "\n",
    "@jit\n",
    "def system_magnetization(lattice):\n",
    "    return np.sum(lattice)\n",
    "\n",
    "\n",
    "@jit\n",
    "def mc_cycle(lattice, J, H, T):\n",
    "    \"\"\"\n",
    "        A single MC cycle (considering all lattice points)\n",
    "        T is the temperature\n",
    "    \"\"\"\n",
    "    T = float(T)\n",
    "    naccept = 0 \n",
    "    nrow, ncol = lattice.shape \n",
    "    E = system_energy(lattice, J, H) \n",
    "    M = system_magnetization(lattice)\n",
    "\n",
    "    for i in range(nrow): \n",
    "        for j in range(ncol):\n",
    "\n",
    "            S = lattice[i, j]\n",
    "            NS = (lattice[(i+1) % nrow, j] +\n",
    "                  lattice[i, (j+1) % ncol] +\n",
    "                  lattice[(i-1) % nrow, j] +\n",
    "                  lattice[i, (j-1) % ncol])\n",
    "            dE = 2*J*S*NS + 2*H*S\n",
    "            accept = np.random.random()\n",
    "\n",
    "            if dE < 0.0 or accept < np.exp((-1.0 * dE)/T):\n",
    "                naccept += 1\n",
    "                S *= -1\n",
    "                E += dE\n",
    "                M += 2*S\n",
    "            lattice[i, j] = S\n",
    "    return lattice, E, M, naccept\n",
    "\n",
    "\n",
    "@jit\n",
    "def run(lattice, n_cycles, J=1, H=0, T=1.0, standard_output=False):\n",
    "    nrow, ncol = lattice.shape\n",
    "\n",
    "    lattice_evolve = [np.zeros((nrow, ncol)) for i in range(n_cycles)]\n",
    "    energy_vs_step = []\n",
    "    magnet_vs_step = []\n",
    "\n",
    "    for cyc in range(n_cycles):\n",
    "\n",
    "        if standard_output:\n",
    "            print(f'cycle {cyc + 1} out of {n_cycles}')\n",
    "\n",
    "        lattice, E, M, naccept = mc_cycle(lattice, J, H, T)\n",
    "        lattice_evolve[cyc] += lattice\n",
    "        energy_vs_step.append(E)\n",
    "        magnet_vs_step.append(M)\n",
    "\n",
    "    return lattice, energy_vs_step, magnet_vs_step, lattice_evolve\n",
    "\n",
    "def cooling(lattice, temp_range, n_cycles, J=1, H=0):\n",
    "    \"\"\" a series of runs at decreasing temperatures \"\"\"\n",
    "\n",
    "    summary = []\n",
    "    frames = []\n",
    "    FL = lattice\n",
    "    for T in temp_range:\n",
    "        print(f'Temperature = {np.round(T,3)}')\n",
    "        FL, EvS, MvS, LvS = run(lattice, n_cycles, J=J, H=H, T=T)\n",
    "        summary.append([J, EvS, MvS])\n",
    "        frames.extend(LvS)\n",
    "\n",
    "    return summary, frames\n",
    "\n",
    "def continuous_cooling(lattice, temperature_values, J=1, H=0):\n",
    "    summary = []\n",
    "    frames = []\n",
    "    FL = lattice\n",
    "\n",
    "    for T in temperature_values:\n",
    "        FL, EvS, MvS, LvS = run(FL, 1, J=J, H=H, T=T)\n",
    "        summary.append([J, EvS, MvS])\n",
    "        frames.extend(LvS)\n",
    "    return summary, frames"
   ]
  },
  {
   "cell_type": "markdown",
   "id": "451badf8-2e2f-40e5-ba89-d58453c76748",
   "metadata": {},
   "source": [
    "## Animation functions"
   ]
  },
  {
   "cell_type": "code",
   "execution_count": null,
   "id": "ff92e0da-0946-4a3f-9757-2839547bcd87",
   "metadata": {},
   "outputs": [],
   "source": [
    "def animate_lattice_pcolormesh(lattice_evolution_array):\n",
    "    '''Animage Ising model as pcolormesh (squares with black spacing between them)'''\n",
    "    \n",
    "    red_blue_cmap = get_continuous_cmap([\"#FF705E\",\"#50BCE3\"])\n",
    "    fig, ax = plt.subplots(1,1,figsize=(12,12),dpi=300)\n",
    "    ax.set_facecolor(\"black\")\n",
    "    fig.set_facecolor(\"black\")\n",
    "    cmesh = ax.pcolormesh(lattice_evolution_array[0,:,:], edgecolors='k', vmin=-1, vmax=1,linewidth=2, cmap=red_blue_cmap)\n",
    "\n",
    "    def animate(frame_num):\n",
    "        cmesh.set_array(lattice_evolution_array[frame_num,:,:])\n",
    "        return cmesh,\n",
    "\n",
    "    anim = FuncAnimation(fig, animate,frames=tqdm(range(lattice_evolution_array.shape[0])), interval=100)\n",
    "    return anim\n",
    "    \n",
    "def animate_lattice_imshow(lattice_evolution_array):\n",
    "    '''Animage Ising model as imshow (pixel grid with no spacing)'''\n",
    "    \n",
    "    red_blue_cmap = get_continuous_cmap([\"#FF705E\",\"#50BCE3\"])\n",
    "\n",
    "    fig, ax = plt.subplots(1,1,figsize=(12,12),dpi=300)\n",
    "    ax.set_facecolor(\"black\")\n",
    "    fig.set_facecolor(\"black\")\n",
    "    cmesh = ax.imshow(lattice_evolution_array[0,:,:], vmin=-1, vmax=1,cmap=red_blue_cmap)\n",
    "\n",
    "    def animate(frame_num):\n",
    "        cmesh.set_data(lattice_evolution_array[frame_num,:,:])\n",
    "        return cmesh,\n",
    "\n",
    "    anim = FuncAnimation(fig, animate,frames=tqdm(range(lattice_evolution_array.shape[0])), interval=100)\n",
    "    return anim"
   ]
  },
  {
   "cell_type": "markdown",
   "id": "5b4be004-9a6a-43b9-9a7e-64ae1364ace5",
   "metadata": {},
   "source": [
    "## Cold and hot lattices"
   ]
  },
  {
   "cell_type": "code",
   "execution_count": null,
   "id": "0fe3f493-6c83-4ed5-b1ca-39c7a0f4c958",
   "metadata": {},
   "outputs": [],
   "source": [
    "# Cold\n",
    "lattice_cold = initialize_lattice_random(75,75)\n",
    "_, _, _, lattice_evolve_cold = run(lattice_cold, 2000, T=1.5)\n",
    "lattice_evolve_cold = np.array(lattice_evolve_cold)[1000::]"
   ]
  },
  {
   "cell_type": "code",
   "execution_count": null,
   "id": "696ca392-5221-4507-833a-57ded369e5b1",
   "metadata": {},
   "outputs": [],
   "source": [
    "anim = animate_lattice_pcolormesh(lattice_evolve_cold)\n",
    "anim.save(\"Ising model cold.mp4\")"
   ]
  },
  {
   "cell_type": "code",
   "execution_count": null,
   "id": "9f54fb72-6bfe-4aa0-872b-f4e299ac4807",
   "metadata": {},
   "outputs": [],
   "source": [
    "# Hot\n",
    "lattice_hot = initialize_lattice_random(75,75)\n",
    "_, _, _, lattice_evolve_hot = run(lattice_hot, 2000, T=4)\n",
    "lattice_evolve_hot = np.array(lattice_evolve_hot)[1000::]"
   ]
  },
  {
   "cell_type": "code",
   "execution_count": null,
   "id": "afdb5b5a-822e-4726-8eba-a6dad75d1fc7",
   "metadata": {},
   "outputs": [],
   "source": [
    "anim = animate_lattice_pcolormesh(lattice_evolve_hot)\n",
    "anim.save(\"Ising model hot.mp4\")"
   ]
  },
  {
   "cell_type": "markdown",
   "id": "72aaff2b-6cae-4fa7-9066-babaa89a27a6",
   "metadata": {},
   "source": [
    "## Energy minimization scene"
   ]
  },
  {
   "cell_type": "code",
   "execution_count": null,
   "id": "a6804f0a-08f3-43b4-a49d-df49bd244753",
   "metadata": {},
   "outputs": [],
   "source": [
    "# ---- Maximum energy (hot)\n",
    "lattice = initialize_lattice_random(100,100)\n",
    "_, _, _, lattice_evolve = run(lattice, 1500, T=5)\n",
    "lattice_evolve_maximum_enegy = np.array(lattice_evolve[1000::])\n",
    "\n",
    "anim = animate_lattice_pcolormesh(lattice_evolve_maximum_enegy)\n",
    "plt.savefig(\"Maximum energy.png\") # Note that here I'm saving only the still .png image"
   ]
  },
  {
   "cell_type": "code",
   "execution_count": null,
   "id": "ee10b747-8580-4f02-87ed-2c06f701fbcc",
   "metadata": {},
   "outputs": [],
   "source": [
    "# ---- Medium energy\n",
    "lattice = initialize_lattice_random(100,100)\n",
    "_, _, _, lattice_evolve = run(lattice, 1500, T=2.1)\n",
    "lattice_evolve_medium_enegy = np.array(lattice_evolve[500::])\n",
    "\n",
    "anim = animate_lattice_pcolormesh(lattice_evolve_medium_enegy)\n",
    "plt.savefig(\"Medium energy.png\")"
   ]
  },
  {
   "cell_type": "code",
   "execution_count": null,
   "id": "31b7972a-0514-43bc-bc09-8a572f1d7a7e",
   "metadata": {},
   "outputs": [],
   "source": [
    "# ---- Minimum energy (cold)\n",
    "lattice = initialize_lattice_random(100,100)\n",
    "_, _, _, lattice_evolve = run(lattice, 1500, T=1.5)\n",
    "lattice_evolve_minimum_enegy = np.array(lattice_evolve[1000::])\n",
    "\n",
    "anim = animate_lattice_pcolormesh(lattice_evolve_minimum_enegy)\n",
    "plt.savefig(\"Minimum energy.png\")"
   ]
  },
  {
   "cell_type": "markdown",
   "id": "a59620cb-28e2-4cd3-88c3-ef95f51b3b2b",
   "metadata": {},
   "source": [
    "## Heating animation"
   ]
  },
  {
   "cell_type": "code",
   "execution_count": null,
   "id": "cb281c70-8138-4828-b479-88db56246a1f",
   "metadata": {},
   "outputs": [],
   "source": [
    "lattice = initialize_lattice_uniform(200,200)\n",
    "temperature_values = np.linspace(0.5, 6, 500) # Note that this from T=0.5 to T=6, which heating, rather than cooling :) \n",
    "summary, frames = continuous_cooling(lattice, temperature_values)\n",
    "frames = np.array(frames)\n",
    "\n",
    "anim = animate_lattice_imshow(frames)\n",
    "anim.save(\"Ising model heating.mp4\")"
   ]
  },
  {
   "cell_type": "markdown",
   "id": "e1dd5a67-e80d-4aa7-abc1-dac316385b40",
   "metadata": {},
   "source": [
    "## Boltzmann distribution"
   ]
  },
  {
   "cell_type": "code",
   "execution_count": null,
   "id": "613105f0-7e4b-4b90-a5e6-63962311d8a3",
   "metadata": {},
   "outputs": [],
   "source": [
    "from scipy.stats import maxwell\n",
    "import matplotlib.cm as cm"
   ]
  },
  {
   "cell_type": "code",
   "execution_count": null,
   "id": "1138aa3e-7574-4e5a-a3d6-e5ce040aac2c",
   "metadata": {},
   "outputs": [],
   "source": [
    "fig, ax = plt.subplots(1,1,figsize=(15,7),dpi=300)\n",
    "fig.set_facecolor(\"black\")\n",
    "ax.set_facecolor(\"black\")\n",
    "ax.axis(False)\n",
    "x = np.linspace(0,10,1000)\n",
    "temps = np.linspace(0.2, 4, 20)\n",
    "\n",
    "def boltzmann_prob(e,T):\n",
    "    return np.exp(-1*e/T)\n",
    "\n",
    "for k,T in enumerate(temps):\n",
    "    ax.plot(x,boltzmann_prob(x,T), color=cm.cool(k/(len(temps)-1)),lw=2.5)\n",
    "    \n",
    "plt.savefig(\"Boltzmann dist.svg\")"
   ]
  },
  {
   "cell_type": "markdown",
   "id": "e2f9156e-44e6-4da9-865c-75ffdd692d73",
   "metadata": {},
   "source": [
    "## Cluster sizes"
   ]
  },
  {
   "cell_type": "code",
   "execution_count": null,
   "id": "96bec180-9159-45cf-99e2-937dd9dde3b3",
   "metadata": {},
   "outputs": [],
   "source": [
    "import scipy.ndimage as ndi"
   ]
  },
  {
   "cell_type": "code",
   "execution_count": null,
   "id": "32eec2b7-18c3-4c5c-86ec-5ef424c0bb1d",
   "metadata": {},
   "outputs": [],
   "source": [
    "lattice = initialize_lattice_random(200,200)\n",
    "lattice, _, _, lattice_evolve = run(lattice,1000,T=2.5)\n",
    "\n",
    "labels, nlab = ndi.label(lattice+1) # Finding clusters\n",
    "label_sizes = [(np.sum(labels==k),k) for k in range(1,nlab)] # Cluster sizes\n",
    "label_sizes = sorted(label_sizes,reverse=True)"
   ]
  },
  {
   "cell_type": "code",
   "execution_count": null,
   "id": "95d891fd-9bc0-42c0-92e0-fd5759ced409",
   "metadata": {},
   "outputs": [],
   "source": [
    "def plot_cluster(labels, cluster_id=\"all\"):\n",
    "    fig, ax = plt.subplots(1,1,figsize=(12,12),dpi=300)\n",
    "    ax.axis(False)\n",
    "    ax.set_facecolor(\"black\")\n",
    "    fig.set_facecolor(\"black\")\n",
    "    if cluster_id==\"all\":\n",
    "        ax.imshow(labels, cmap=\"binary_r\", vmin=0, vmax=1)\n",
    "    else:\n",
    "        ax.imshow(labels==cluster_id, cmap=\"binary_r\", vmin=0, vmax=1)"
   ]
  },
  {
   "cell_type": "code",
   "execution_count": null,
   "id": "55562a29-20b2-4985-809d-625ca231072d",
   "metadata": {},
   "outputs": [],
   "source": [
    "larger_clusters_k = [tup[1] for tup in label_sizes[0:3]]\n",
    "smaller_clusters_k = [tup[1] for tup in label_sizes[5:8]]"
   ]
  },
  {
   "cell_type": "code",
   "execution_count": null,
   "id": "ef0b3620-b3cc-4c27-9326-3045368c4527",
   "metadata": {},
   "outputs": [],
   "source": [
    "for k in [\"all\"] + larger_clusters_k+smaller_clusters_k:\n",
    "    plot_cluster(labels, k)\n",
    "    plt.savefig(f\"Cluster {k}.png\",bbox_inches=\"tight\")"
   ]
  },
  {
   "cell_type": "markdown",
   "id": "fea3e6cc-6031-43ef-9bed-c00931d7bd3a",
   "metadata": {},
   "source": [
    "## Scale-free properties on graphs"
   ]
  },
  {
   "cell_type": "code",
   "execution_count": null,
   "id": "a30e4cab-2c51-43e0-ae1a-d77b633a79d3",
   "metadata": {},
   "outputs": [],
   "source": [
    "def f(x):\n",
    "    return x**(-2.3) # Power law\n",
    "def g(x):\n",
    "    return 10*np.exp(-2*x) # Exponential"
   ]
  },
  {
   "cell_type": "code",
   "execution_count": null,
   "id": "64a1a689-16ff-479a-93f8-cea7e45ed71b",
   "metadata": {},
   "outputs": [],
   "source": [
    "def setup_figure():\n",
    "    ''' Setting up figure and axis'''\n",
    "    fig, ax = plt.subplots(1,1, figsize=(15,9), dpi=300)\n",
    "    ax.set_facecolor(\"black\")\n",
    "    fig.set_facecolor(\"black\")\n",
    "    ax.tick_params(colors=\"white\", labelsize=15)\n",
    "    ax.spines[\"bottom\"].set_color(\"white\")\n",
    "    ax.spines[\"left\"].set_color(\"white\")\n",
    "    return fig, ax\n",
    "\n",
    "def adjust_axis_lims(x_range, function):\n",
    "    ''' Adjust the axis limits (used in animation)'''\n",
    "    ax.set_xlim(x_range[0],x_range[1])\n",
    "    ax.set_ylim(function(x_range[1]), function(x_range[0]))"
   ]
  },
  {
   "cell_type": "markdown",
   "id": "e724c3c7-ac1f-42b2-ba84-1a978af5a06c",
   "metadata": {},
   "source": [
    "### Power law function"
   ]
  },
  {
   "cell_type": "code",
   "execution_count": null,
   "id": "734549ce-a51c-4742-a461-17c08ca284cb",
   "metadata": {},
   "outputs": [],
   "source": [
    "fig, ax = setup_figure()\n",
    "x = np.linspace(1,200,5000)\n",
    "line, = ax.plot(x,f(x),color=\"salmon\", lw=7)\n",
    "adjust_axis_lims((1,2), f)\n",
    "\n",
    "def animate_f_graph(frame):\n",
    "    start, end = frame, 2*frame\n",
    "    adjust_axis_lims((start, end),f)\n",
    "    return ax,\n",
    "\n",
    "anim = FuncAnimation(fig, animate_f_graph, frames=tqdm(np.linspace(1, 50, 1000)), interval=40)\n",
    "anim.save(\"Power law graph.mp4\")"
   ]
  },
  {
   "cell_type": "markdown",
   "id": "cac746a3-e832-4153-bbc8-be92adbf5292",
   "metadata": {},
   "source": [
    "### Exponential function"
   ]
  },
  {
   "cell_type": "code",
   "execution_count": null,
   "id": "bc80e10c-ebe0-44fd-9c26-14461a037262",
   "metadata": {},
   "outputs": [],
   "source": [
    "fig, ax = setup_figure()\n",
    "x = np.linspace(1,200,5000)\n",
    "line, = ax.plot(x,g(x),color=\"#03e3fc\", lw=7)\n",
    "adjust_axis_lims((1,2), g)\n",
    "\n",
    "def animate_g_graph(frame):\n",
    "    start, end = frame, 2*frame\n",
    "    adjust_axis_lims((start, end),g)\n",
    "    return ax,\n",
    "\n",
    "anim = FuncAnimation(fig, animate_g_graph, frames=tqdm(np.linspace(1, 10, 1000)), interval=40)\n",
    "anim.save(\"Exponential graph.mp4\")"
   ]
  },
  {
   "cell_type": "code",
   "execution_count": null,
   "id": "d8d2669c-ba64-4832-be47-fd9dd405a12b",
   "metadata": {},
   "outputs": [],
   "source": []
  }
 ],
 "metadata": {
  "kernelspec": {
   "display_name": "Python 3 (ipykernel)",
   "language": "python",
   "name": "python3"
  },
  "language_info": {
   "codemirror_mode": {
    "name": "ipython",
    "version": 3
   },
   "file_extension": ".py",
   "mimetype": "text/x-python",
   "name": "python",
   "nbconvert_exporter": "python",
   "pygments_lexer": "ipython3",
   "version": "3.10.0"
  }
 },
 "nbformat": 4,
 "nbformat_minor": 5
}
