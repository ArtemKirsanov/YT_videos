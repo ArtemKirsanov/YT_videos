{
 "cells": [
  {
   "cell_type": "markdown",
   "id": "ba32bfb2-d938-4539-9001-d7fe92ce1a3b",
   "metadata": {},
   "source": [
    "# Recreating branching model animations\n",
    "\n",
    "Artem Kirsanov, August 2023"
   ]
  },
  {
   "cell_type": "code",
   "execution_count": null,
   "id": "0c280f20-f4eb-4420-8fdd-6cbd624fdb41",
   "metadata": {},
   "outputs": [],
   "source": [
    "import numpy as np\n",
    "from copy import deepcopy\n",
    "import itertools\n",
    "import matplotlib\n",
    "import matplotlib.pyplot as plt\n",
    "from numpy import radians as rad\n",
    "from matplotlib.animation import FuncAnimation\n",
    "from scipy.ndimage import convolve,convolve1d\n",
    "import cmasher\n",
    "import seaborn as sns"
   ]
  },
  {
   "cell_type": "markdown",
   "id": "b508dbf3-f82a-4224-879c-74febadd983b",
   "metadata": {},
   "source": [
    "# Matplotlib"
   ]
  },
  {
   "cell_type": "code",
   "execution_count": null,
   "id": "c5df300b-a2dc-42aa-aa2f-83144775a45f",
   "metadata": {},
   "outputs": [],
   "source": [
    "NUM_LAYERS = 20\n",
    "NEURONS_PER_LAYER = 10"
   ]
  },
  {
   "cell_type": "code",
   "execution_count": null,
   "id": "137bd587-e2e4-4f82-9fba-86036e4a7700",
   "metadata": {},
   "outputs": [],
   "source": [
    "def network_init():\n",
    "\treturn np.zeros((NUM_LAYERS, NEURONS_PER_LAYER),dtype=bool)\n",
    "   \n",
    "\n",
    "def network_advance(old_network, sigma,spont_prob):\n",
    "    '''Advance one time step'''\n",
    "    network = deepcopy(old_network)\n",
    "    spont = np.random.rand(*network.shape)\n",
    "    network[spont<spont_prob] = 1 # Random spontaneous activity\n",
    "    for layer_num in range(NUM_LAYERS-1, 0, -1):\n",
    "        # Randomly propagate, starting from the last layer\n",
    "        propagation_mask = np.random.rand(NEURONS_PER_LAYER) < sigma*np.sum(network[layer_num-1,:])/NEURONS_PER_LAYER\n",
    "        network[layer_num] = propagation_mask\n",
    "        network[layer_num-1] = np.zeros(NEURONS_PER_LAYER)\n",
    "    return network\n",
    "                    \n",
    "\n",
    "def run_simulation(network, n_steps, sigma=1, spont_prob=0.01):\n",
    "    '''Run simulation with stochastic activity for n_steps'''\n",
    "    network_states = np.zeros((n_steps, NUM_LAYERS, NEURONS_PER_LAYER))\n",
    "    network_states[0,:,:] = network\n",
    "    \n",
    "    for step in range(1,n_steps):\n",
    "        network_states[step, :,:] = network_advance(network_states[step-1, :,:], sigma,spont_prob)\n",
    "    return network_states"
   ]
  },
  {
   "cell_type": "code",
   "execution_count": null,
   "id": "40cae91d-56f6-42bf-be5e-a5496d562f56",
   "metadata": {},
   "outputs": [],
   "source": [
    "network = network_init()\n",
    "evolution = run_simulation(network, 50, sigma=1, spont_prob=0.01)"
   ]
  },
  {
   "cell_type": "code",
   "execution_count": null,
   "id": "3b397509-5d6c-42a9-975e-67e7e0eae33e",
   "metadata": {},
   "outputs": [],
   "source": [
    "fig, ax = plt.subplots(1,1,figsize=(10,5),dpi=200)\n",
    "ax.axis(False)\n",
    "fig.set_facecolor(\"black\")\n",
    "ax.set_facecolor(\"black\")\n",
    "\n",
    "cmesh = ax.pcolormesh(evolution[0,:,:].T, edgecolors='k', vmin=0, vmax=1,linewidth=2, cmap=plt.cm.coolwarm)\n",
    "\n",
    "def anim_function(frame_num):\n",
    "    cmesh.set_array(evolution[frame_num,:,:].T)\n",
    "    return cmesh,\n",
    "\n",
    "anim = FuncAnimation(fig, anim_function, frames=np.arange(evolution.shape[0]), interval=30)\n",
    "anim.save(\"Network evolution raw fast.mp4\")"
   ]
  },
  {
   "cell_type": "code",
   "execution_count": null,
   "id": "b716e331-ed87-4644-9410-e9f364d98bf8",
   "metadata": {},
   "outputs": [],
   "source": [
    "# --- Running the model\n",
    "network = network_init()\n",
    "evolution = run_simulation(network, 500, sigma=1, spont_prob=0.01)\n",
    "\n",
    "# --- Smoothing activity\n",
    "def smooth_activity(network_states, time_stretch=3):\n",
    "    '''\n",
    "        Smooth the activity in time for a more eye-pleasant animation \n",
    "    '''\n",
    "    def get_symmetric_kernel(slope=-20, npoints=100):\n",
    "        t = np.linspace(0,1,npoints)\n",
    "        kernel = np.zeros_like(t)\n",
    "        t_mask = t>0.5\n",
    "        kernel[t_mask]=np.exp(slope*t[t_mask])\n",
    "        kernel[(t<=0.5)]=np.exp(slope*t[t_mask])[::-1]\n",
    "        return kernel/kernel[t_mask][0]\n",
    "\n",
    "    kernel = get_symmetric_kernel(-60)\n",
    "    smoothed_activity = np.zeros((network_states.shape[0]*time_stretch, network_states.shape[1], network_states.shape[2]))\n",
    "    smoothed_activity[::time_stretch, :, :] = network_states\n",
    "    smoothed_activity = convolve1d(smoothed_activity, kernel, axis=0,mode=\"constant\",origin=0)\n",
    "    return smoothed_activity"
   ]
  },
  {
   "cell_type": "code",
   "execution_count": null,
   "id": "7297054f-9624-4a82-9e9b-3c0cb556bd06",
   "metadata": {},
   "outputs": [],
   "source": [
    "# --- Animation\n",
    "smoothed_evolution = smooth_activity(evolution)\n",
    "fig, ax = plt.subplots(1,1,figsize=(10,5),dpi=200)\n",
    "ax.axis(False)\n",
    "fig.set_facecolor(\"black\")\n",
    "ax.set_facecolor(\"black\")\n",
    "\n",
    "cmap = cmasher.get_sub_cmap(sns.color_palette(\"mako\",as_cmap=True),0.2,1)\n",
    "cmesh = ax.pcolormesh(smoothed_evolution[0,:,:].T, edgecolors='k', vmin=0, vmax=1,linewidth=2, cmap=cmap)\n",
    "\n",
    "def anim_function(frame_num):\n",
    "    cmesh.set_array(smoothed_evolution[frame_num,:,:].T)\n",
    "    return cmesh,\n",
    "\n",
    "anim = FuncAnimation(fig, anim_function, frames=np.arange(smoothed_evolution.shape[0]), interval=30)\n",
    "anim.save(\"Network evolution smoothed.mp4\")"
   ]
  },
  {
   "cell_type": "markdown",
   "id": "ce077216-1030-455d-a7b6-8f9882b0d24a",
   "metadata": {},
   "source": [
    "# Manim"
   ]
  },
  {
   "cell_type": "code",
   "execution_count": null,
   "id": "0e88a3f4-d79a-45d1-84ea-dd8c06467ef3",
   "metadata": {},
   "outputs": [],
   "source": [
    "NUM_LAYERS = 10\n",
    "NEURONS_PER_LAYER = 10\n",
    "NUM_FRAMES=2000\n",
    "\n",
    "# --- Simulation\n",
    "network = network_init()\n",
    "network_states = run_simulation(network, NUM_FRAMES, sigma=1,spont_prob=0.01)\n",
    "smoothed_states = smooth_activity(network_states)"
   ]
  },
  {
   "cell_type": "code",
   "execution_count": null,
   "id": "45ce6243-3e08-4003-9e55-9874f29b0ab5",
   "metadata": {},
   "outputs": [],
   "source": [
    "def multilayered_graph(subset_sizes, edge_prob=0.35):\n",
    "    ''' Generate a networkx multilayered graph with specied layer sizes '''\n",
    "    extents = nx.utils.pairwise(itertools.accumulate([0] + subset_sizes))\n",
    "    layers = [range(start, end) for start, end in extents]\n",
    "    G = nx.Graph()\n",
    "    for (i, layer) in enumerate(layers):\n",
    "        G.add_nodes_from(layer, layer=i)\n",
    "    for layer1, layer2 in nx.utils.pairwise(layers):\n",
    "        all_edges = list(itertools.product(layer1, layer2))\n",
    "        selected_edges = np.random.choice(range(len(all_edges)),  size=int(len(all_edges)*edge_prob), replace=False)\n",
    "        for k in selected_edges:  \n",
    "            G.add_edge(*all_edges[k])\n",
    "    return G"
   ]
  },
  {
   "cell_type": "code",
   "execution_count": null,
   "id": "d3f8a172-e94a-45c9-a73d-0fc2e0417233",
   "metadata": {},
   "outputs": [],
   "source": [
    "from manim import *\n",
    "import networkx as nx\n",
    "from scipy.interpolate import interp1d\n",
    "import itertools"
   ]
  },
  {
   "cell_type": "code",
   "execution_count": null,
   "id": "8141ed18-c5b0-4a3e-987c-0ffd9aabe885",
   "metadata": {},
   "outputs": [],
   "source": [
    "# --- Animation with Manim\n",
    "class BranchingModelRearranging(Scene):\n",
    "    def construct(self):\n",
    "        \n",
    "        # Set up coordinate systems\n",
    "        shuffled_ax = Axes(x_range=(0,NUM_LAYERS), y_range=(0,NEURONS_PER_LAYER),x_length=7, y_length=7)\n",
    "        layers_ax = Axes(x_range=(0,NUM_LAYERS), y_range=(0,NEURONS_PER_LAYER),x_length=13, y_length=7)\n",
    "        \n",
    "        # --- Mapping\n",
    "        mapping = np.array(list(itertools.product(range(shuffled_ax.x_range[1]), range(shuffled_ax.y_range[1]))), dtype=object)\n",
    "        layout_layered = {k: layers_ax.c2p(*mapping[k]) for k in range(NUM_LAYERS*NEURONS_PER_LAYER)}\n",
    "        np.random.shuffle(mapping)\n",
    "        layout_shuffle = {k: shuffled_ax.c2p(*mapping[k]) for k in range(NUM_LAYERS*NEURONS_PER_LAYER)}\n",
    "\n",
    "        # Construct a graph object\n",
    "        G = multilayered_graph(([NEURONS_PER_LAYER]*NUM_LAYERS))\n",
    "        graph = Graph.from_networkx(G,layout=layout_shuffle,vertex_config={'radius': 0.2}, \n",
    "                                    edge_config={\"stroke_width\":0.5, \"stroke_color\":GRAY})\n",
    "        \n",
    "        # Interpolation function to animate the color of the nodes according to simulation data\n",
    "        value_interp_function = interp1d(np.arange(smoothed_states.shape[0]), \n",
    "                                         smoothed_states.reshape(smoothed_states.shape[0], NUM_LAYERS*NEURONS_PER_LAYER), axis=0)\n",
    "        \n",
    "        cmap = cmasher.get_sub_cmap(sns.color_palette(\"mako\",as_cmap=True),0.2,1)\n",
    "        \n",
    "        \n",
    "        def update_node_colors(graph):\n",
    "            for k in range(len(G.nodes)):\n",
    "                color =  cmap(value_interp_function(time_tracker.get_value())[k])\n",
    "                graph[k].set_color(rgba_to_color(color))\n",
    "            \n",
    "        time_tracker = ValueTracker() # Progressing through simulation data\n",
    "        graph.add_updater(update_node_colors)\n",
    "        self.add(graph)\n",
    "        \n",
    "        # --- Animating (make sure that there is enough frames in the simulation data)\n",
    "        FPS = 30 \n",
    "        PLAY_TIME_BEFORE_REARRANGING = 20\n",
    "        PLAY_TIME_AFTER_REARRANGING = 5\n",
    "        REARRANGING_TIME = 2\n",
    "        \n",
    "        def get_shuffle2layered_anims():\n",
    "            return [graph[k].animate.move_to(layout_layered[k]) for k in range(len(G.nodes))]\n",
    "        \n",
    "        def animate_network(playing_time):\n",
    "            self.play(time_tracker.animate.increment_value(int(playing_time*FPS)), run_time=playing_time, rate_func=linear)\n",
    "        \n",
    "        animate_network(PLAY_TIME_BEFORE_REARRANGING)\n",
    "       \n",
    "            \n",
    "        self.play(*(get_shuffle2layered_anims() + \n",
    "                    [time_tracker.animate.increment_value(int(REARRANGING_TIME*FPS))]),\n",
    "                    run_time=REARRANGING_TIME, rate_func=linear)\n",
    "\n",
    "        animate_network(PLAY_TIME_AFTER_REARRANGING)\n",
    "        self.wait()"
   ]
  },
  {
   "cell_type": "code",
   "execution_count": null,
   "id": "93c3b9c7-d8de-42f6-9ddb-6981ddeb1c2d",
   "metadata": {},
   "outputs": [],
   "source": [
    "%manim BranchingModelRearranging"
   ]
  }
 ],
 "metadata": {
  "kernelspec": {
   "display_name": "Python 3 (ipykernel)",
   "language": "python",
   "name": "python3"
  },
  "language_info": {
   "codemirror_mode": {
    "name": "ipython",
    "version": 3
   },
   "file_extension": ".py",
   "mimetype": "text/x-python",
   "name": "python",
   "nbconvert_exporter": "python",
   "pygments_lexer": "ipython3",
   "version": "3.11.0"
  }
 },
 "nbformat": 4,
 "nbformat_minor": 5
}
