{
 "cells": [
  {
   "cell_type": "code",
   "execution_count": 1,
   "id": "661cad30-9fc8-4824-8568-552fd11e000f",
   "metadata": {},
   "outputs": [
    {
     "data": {
      "text/html": [
       "<pre style=\"white-space:pre;overflow-x:auto;line-height:normal;font-family:Menlo,'DejaVu Sans Mono',consolas,'Courier New',monospace\">Manim Community <span style=\"color: #008000; text-decoration-color: #008000\">v0.17.2</span>\n",
       "\n",
       "</pre>\n"
      ],
      "text/plain": [
       "Manim Community \u001b[32mv0.\u001b[0m\u001b[32m17.2\u001b[0m\n",
       "\n"
      ]
     },
     "metadata": {},
     "output_type": "display_data"
    }
   ],
   "source": [
    "from manim import *\n",
    "import networkx as nx\n",
    "import random\n",
    "import numpy as np"
   ]
  },
  {
   "cell_type": "markdown",
   "id": "fa1892c7-4218-4d28-9954-be5d754907ec",
   "metadata": {},
   "source": [
    "## Graph introduction scene"
   ]
  },
  {
   "cell_type": "code",
   "execution_count": null,
   "id": "7ac872c6-c3b7-45c3-9132-5948c6544def",
   "metadata": {},
   "outputs": [],
   "source": [
    "%%manim -r 3840,2160 GraphIntroduction\n",
    "\n",
    "class GraphIntroduction(Scene):\n",
    "    def graph_configure(self,graph,**kwargs):    \n",
    "        # This is to configure the Graph object to wiggle the verts\n",
    "        for submob in graph.vertices.values():\n",
    "            submob.jiggling_direction = rotate_vector(\n",
    "                RIGHT, np.random.random() * TAU *1.5,\n",
    "            )\n",
    "            submob.jiggling_phase = np.random.random() * TAU *1.5\n",
    "        for key, value in kwargs.items():\n",
    "            setattr(graph, key, value)\n",
    "            \n",
    "    def set_graph_stroke(self,graph,**kwargs):\n",
    "        for e in graph.edges.values():\n",
    "            e.set_stroke(**kwargs)\n",
    "            \n",
    "    \n",
    "    def construct(self):\n",
    "        \n",
    "        def wiggle_graph_updater(graph, dt):\n",
    "            # Updater to wiggle vertices of a given graph\n",
    "            for key in graph.edges:\n",
    "                edge=graph.edges[key]\n",
    "                edge.start = graph.vertices[key[0]].get_center()\n",
    "                edge.end = graph.vertices[key[1]].get_center()\n",
    "            \n",
    "            for submob in graph.vertices.values():\n",
    "                submob.jiggling_phase += dt * graph.jiggles_per_second * TAU\n",
    "                submob.shift(\n",
    "                    graph.jiggle_amplitude *\n",
    "                    submob.jiggling_direction *\n",
    "                    np.sin(submob.jiggling_phase) * dt\n",
    "                )\n",
    "                \n",
    "        random.seed(246)\n",
    "        np.random.seed(4812)\n",
    "        \n",
    "        G = Graph.from_networkx(nx.newman_watts_strogatz_graph(10, 5, 0.1), layout=\"spring\", layout_scale=3)\n",
    "        G2 = Graph.from_networkx(nx.newman_watts_strogatz_graph(10, 6, 0.1), layout=\"spring\", layout_scale=3)\n",
    "\n",
    "        \n",
    "        for graph in [G,G2]:\n",
    "            self.graph_configure(graph, jiggle_amplitude=0.2, jiggles_per_second=0.1)\n",
    "            graph.add_updater(wiggle_graph_updater)\n",
    "            self.set_graph_stroke(graph,width=1)\n",
    "    \n",
    "        self.add(G)\n",
    "        \n",
    "        ANIMATION_TYPE = \"VERTICES\"  # Select whether to render only vertices or only edges (in order to colorize in After Effects separately)\n",
    "        \n",
    "        if ANIMATION_TYPE==\"VERTICES\":\n",
    "            # hiding edges\n",
    "            for edge in G.edges.values():\n",
    "                edge.set_stroke(width=0)\n",
    "\n",
    "        if ANIMATION_TYPE==\"EDGES\":\n",
    "            for vert in G.vertices.values():\n",
    "                vert.scale(0)\n",
    "            \n",
    "        self.wait(20)\n",
    "        self.play(G.animate.change_layout(\"circular\"), run_time=3)\n",
    "        self.wait(20)"
   ]
  },
  {
   "cell_type": "markdown",
   "id": "40e8186f-5343-4f77-a985-9810dfd111e2",
   "metadata": {},
   "source": [
    "## Space 4-connected graph"
   ]
  },
  {
   "cell_type": "code",
   "execution_count": null,
   "id": "40f98c6e-a565-4dba-af06-d8cfff8c9efd",
   "metadata": {},
   "outputs": [],
   "source": [
    "%%manim -r 3840,2160 SpaceGridGraph\n",
    "\n",
    "class SpaceGridGraph(Scene):\n",
    "    def graph_configure(self,graph,**kwargs):    \n",
    "        # This is to configure the Graph object to wiggle the verts\n",
    "        for submob in graph.vertices.values():\n",
    "            submob.jiggling_direction = rotate_vector(\n",
    "                RIGHT, np.random.random() * TAU *1.5,\n",
    "            )\n",
    "            submob.jiggling_phase = np.random.random() * TAU *1.5\n",
    "        for key, value in kwargs.items():\n",
    "            setattr(graph, key, value)\n",
    "            \n",
    "    def set_graph_stroke(self,graph,**kwargs):\n",
    "        for e in graph.edges.values():\n",
    "            e.set_stroke(**kwargs)\n",
    "            \n",
    "    \n",
    "    def construct(self):\n",
    "        \n",
    "        def wiggle_graph_updater(graph, dt):\n",
    "            # Updater to wiggle vertices of a given graph\n",
    "            for key in graph.edges:\n",
    "                edge=graph.edges[key]\n",
    "                edge.start = graph.vertices[key[0]].get_center()\n",
    "                edge.end = graph.vertices[key[1]].get_center()\n",
    "            \n",
    "            for submob in graph.vertices.values():\n",
    "                submob.jiggling_phase += dt * graph.jiggles_per_second * TAU\n",
    "                submob.shift(\n",
    "                    graph.jiggle_amplitude *\n",
    "                    submob.jiggling_direction *\n",
    "                    np.sin(submob.jiggling_phase) * dt\n",
    "                )\n",
    "                \n",
    "        random.seed(246)\n",
    "        np.random.seed(4812)\n",
    "        \n",
    "        GRID_SIZE_X = 9\n",
    "        GRID_SIZE_Y = 9\n",
    "        \n",
    "        G = Graph.from_networkx(nx.grid_2d_graph(GRID_SIZE_X,GRID_SIZE_Y),layout_scale=1)\n",
    "        ax = Axes(x_range=(0,GRID_SIZE_X), y_range=(0,GRID_SIZE_Y), x_length=7, y_length=7)\n",
    "        \n",
    "        for k,vert in enumerate(G.vertices.values()):\n",
    "            vert.move_to(ax.c2p(k//GRID_SIZE_X, k%GRID_SIZE_X))\n",
    "            \n",
    "            \n",
    "        self.graph_configure(G, jiggle_amplitude=0.05, jiggles_per_second=0.6)\n",
    "        G.add_updater(wiggle_graph_updater)\n",
    "        self.set_graph_stroke(G,width=1)\n",
    "        self.add(G)\n",
    "        self.wait(10)\n",
    "        "
   ]
  }
 ],
 "metadata": {
  "kernelspec": {
   "display_name": "Python 3 (ipykernel)",
   "language": "python",
   "name": "python3"
  },
  "language_info": {
   "codemirror_mode": {
    "name": "ipython",
    "version": 3
   },
   "file_extension": ".py",
   "mimetype": "text/x-python",
   "name": "python",
   "nbconvert_exporter": "python",
   "pygments_lexer": "ipython3",
   "version": "3.11.0"
  }
 },
 "nbformat": 4,
 "nbformat_minor": 5
}
