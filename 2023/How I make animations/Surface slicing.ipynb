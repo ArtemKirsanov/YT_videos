{
 "cells": [
  {
   "cell_type": "markdown",
   "id": "fe48ff2b",
   "metadata": {},
   "source": [
    "# Surface slicing tutorial \n",
    "\n",
    "**Note:** The detalied notebook can be found in the Cognitive Maps directory. [Link](https://github.com/ArtemKirsanov/Youtube-Videos/blob/main/_2023/Cognitive%20maps/Factorization.ipynb)"
   ]
  },
  {
   "cell_type": "code",
   "execution_count": 1,
   "id": "d46e858d-2f8e-4bd1-985e-8773a1a740b2",
   "metadata": {},
   "outputs": [],
   "source": [
    "import numpy as np\n",
    "import matplotlib.pyplot as plt"
   ]
  },
  {
   "cell_type": "code",
   "execution_count": 2,
   "id": "386d4676-c4e5-4c89-ac60-ad35b65a79ad",
   "metadata": {},
   "outputs": [],
   "source": [
    "def gauss(x,mu,sigma):\n",
    "    return np.exp(-(x-mu)**2/(sigma**2))\n",
    "\n",
    "x = np.linspace(0,1,500)\n",
    "dist_model = gauss(x,0.25,0.15) + gauss(x,0.6,0.12)*0.7\n",
    "dist_color = 0.6*gauss(x,0.5,0.3)+ gauss(x,0.15,0.1)+ gauss(x,0.8,0.1)*0.7\n",
    "matrix = np.outer(dist_color, dist_model)\n",
    "plt.imsave(\"Displacement map.png\",matrix,cmap=\"binary_r\", origin=\"lower\", dpi=300)"
   ]
  }
 ],
 "metadata": {
  "kernelspec": {
   "display_name": "Python 3 (ipykernel)",
   "language": "python",
   "name": "python3"
  },
  "language_info": {
   "codemirror_mode": {
    "name": "ipython",
    "version": 3
   },
   "file_extension": ".py",
   "mimetype": "text/x-python",
   "name": "python",
   "nbconvert_exporter": "python",
   "pygments_lexer": "ipython3",
   "version": "3.11.0"
  }
 },
 "nbformat": 4,
 "nbformat_minor": 5
}
